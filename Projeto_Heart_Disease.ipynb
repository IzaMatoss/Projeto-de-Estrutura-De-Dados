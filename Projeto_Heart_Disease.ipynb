{
  "cells": [
    {
      "cell_type": "markdown",
      "metadata": {
        "id": "view-in-github",
        "colab_type": "text"
      },
      "source": [
        "<a href=\"https://colab.research.google.com/github/IzaMatoss/Projeto-de-Estrutura-De-Dados/blob/main/Projeto_Heart_Disease.ipynb\" target=\"_parent\"><img src=\"https://colab.research.google.com/assets/colab-badge.svg\" alt=\"Open In Colab\"/></a>"
      ]
    },
    {
      "cell_type": "markdown",
      "id": "a6ac2d5f",
      "metadata": {
        "id": "a6ac2d5f"
      },
      "source": [
        "# Importar bibliotecas\n",
        "\n",
        "**Importe as bibliotecas.**"
      ]
    },
    {
      "cell_type": "code",
      "source": [
        "from google.colab import drive\n",
        "drive.mount('/content/drive')"
      ],
      "metadata": {
        "id": "fEUZihhiVoMw"
      },
      "id": "fEUZihhiVoMw",
      "execution_count": null,
      "outputs": []
    },
    {
      "cell_type": "code",
      "execution_count": null,
      "id": "3a67b4f9",
      "metadata": {
        "tags": [],
        "id": "3a67b4f9"
      },
      "outputs": [],
      "source": [
        "import numpy as np\n",
        "import pandas as pd\n",
        "import seaborn as sns\n",
        "import matplotlib.pyplot as plt"
      ]
    },
    {
      "cell_type": "code",
      "execution_count": null,
      "id": "e4ee5893",
      "metadata": {
        "tags": [],
        "id": "e4ee5893"
      },
      "outputs": [],
      "source": [
        "from sklearn.metrics import classification_report, confusion_matrix"
      ]
    },
    {
      "cell_type": "code",
      "execution_count": null,
      "id": "ea2ee478-4a57-4297-970d-ebc2261ae2fe",
      "metadata": {
        "tags": [],
        "id": "ea2ee478-4a57-4297-970d-ebc2261ae2fe"
      },
      "outputs": [],
      "source": [
        "import warnings\n",
        "warnings.filterwarnings(\"ignore\")"
      ]
    },
    {
      "cell_type": "markdown",
      "id": "9992daab",
      "metadata": {
        "id": "9992daab"
      },
      "source": [
        "## Obter dados\n",
        "\n",
        "**Use pandas para ler Cardiovascular-Diseases-Risk.csv como um DataFrame chamado df.**"
      ]
    },
    {
      "cell_type": "code",
      "execution_count": null,
      "id": "88320ba0",
      "metadata": {
        "tags": [],
        "id": "88320ba0"
      },
      "outputs": [],
      "source": [
        "# df = pd.read_csv('Cardiovascular-Diseases-Risk.csv')\n",
        "df = pd.read_parquet('cardio.parquet')"
      ]
    },
    {
      "cell_type": "markdown",
      "id": "45812998",
      "metadata": {
        "id": "45812998"
      },
      "source": [
        "**Use os métodos info(), head(), e describe().**"
      ]
    },
    {
      "cell_type": "code",
      "execution_count": 1,
      "id": "def19e40",
      "metadata": {
        "tags": [],
        "id": "def19e40",
        "outputId": "4ecd7a46-4a2d-4d6d-b230-4cfa56daea1b",
        "colab": {
          "base_uri": "https://localhost:8080/",
          "height": 148
        }
      },
      "outputs": [
        {
          "output_type": "error",
          "ename": "NameError",
          "evalue": "name 'df' is not defined",
          "traceback": [
            "\u001b[0;31m---------------------------------------------------------------------------\u001b[0m",
            "\u001b[0;31mNameError\u001b[0m                                 Traceback (most recent call last)",
            "\u001b[0;32m<ipython-input-1-a74c58233b9e>\u001b[0m in \u001b[0;36m<cell line: 1>\u001b[0;34m()\u001b[0m\n\u001b[0;32m----> 1\u001b[0;31m \u001b[0mdf\u001b[0m\u001b[0;34m.\u001b[0m\u001b[0minfo\u001b[0m\u001b[0;34m(\u001b[0m\u001b[0;34m)\u001b[0m\u001b[0;34m\u001b[0m\u001b[0;34m\u001b[0m\u001b[0m\n\u001b[0m",
            "\u001b[0;31mNameError\u001b[0m: name 'df' is not defined"
          ]
        }
      ],
      "source": [
        "df.info()"
      ]
    },
    {
      "cell_type": "code",
      "execution_count": null,
      "id": "a660fca5-5b56-4561-8dd7-532570035cf7",
      "metadata": {
        "id": "a660fca5-5b56-4561-8dd7-532570035cf7"
      },
      "outputs": [],
      "source": [
        "df[df.isnull().any(axis=1)]"
      ]
    },
    {
      "cell_type": "code",
      "execution_count": null,
      "id": "1149eae4-58aa-4643-bd81-40a0ec1fe89f",
      "metadata": {
        "id": "1149eae4-58aa-4643-bd81-40a0ec1fe89f"
      },
      "outputs": [],
      "source": [
        "df.isnull().sum()"
      ]
    },
    {
      "cell_type": "code",
      "execution_count": null,
      "id": "8fbf846e-2435-453e-b179-d7c5146e48c5",
      "metadata": {
        "id": "8fbf846e-2435-453e-b179-d7c5146e48c5"
      },
      "outputs": [],
      "source": [
        "df[df.duplicated]"
      ]
    },
    {
      "cell_type": "code",
      "execution_count": null,
      "id": "dc1afd5d-e997-42c1-bbd5-06c06b75ef7a",
      "metadata": {
        "id": "dc1afd5d-e997-42c1-bbd5-06c06b75ef7a"
      },
      "outputs": [],
      "source": [
        "df.drop_duplicates(inplace=True)"
      ]
    },
    {
      "cell_type": "code",
      "execution_count": null,
      "id": "4036ff5d-28cf-4d35-9df9-5fcdccd7bbb9",
      "metadata": {
        "id": "4036ff5d-28cf-4d35-9df9-5fcdccd7bbb9"
      },
      "outputs": [],
      "source": [
        "df[df.duplicated].shape"
      ]
    },
    {
      "cell_type": "markdown",
      "id": "2a89c34c",
      "metadata": {
        "id": "2a89c34c"
      },
      "source": [
        "# Análise exploratória de dados"
      ]
    },
    {
      "cell_type": "markdown",
      "id": "bf34012e",
      "metadata": {
        "id": "bf34012e"
      },
      "source": [
        "**Crie um gráfico heatmap onde as correlações sejam demonstradas numericamente**."
      ]
    },
    {
      "cell_type": "code",
      "execution_count": null,
      "id": "db839558",
      "metadata": {
        "tags": [],
        "id": "db839558"
      },
      "outputs": [],
      "source": [
        "sns.heatmap(df.corr(numeric_only=True),annot=True)"
      ]
    },
    {
      "cell_type": "markdown",
      "id": "348f37ad",
      "metadata": {
        "id": "348f37ad"
      },
      "source": [
        "**Crie um gráfico pie onde mostre a distribuição do nível de saúde dos indivíduos no dataset**."
      ]
    },
    {
      "cell_type": "code",
      "execution_count": null,
      "id": "126e9658",
      "metadata": {
        "tags": [],
        "id": "126e9658"
      },
      "outputs": [],
      "source": [
        "General_Health = df.General_Health.value_counts()\n",
        "plt.figure(figsize=(8,4))\n",
        "plt.title(\"Distribuição de Saúde\")\n",
        "plt.pie(General_Health, labels=General_Health.index, autopct='%.1f%%');"
      ]
    },
    {
      "cell_type": "markdown",
      "id": "e8212c4b",
      "metadata": {
        "id": "e8212c4b"
      },
      "source": [
        "**Crie um histograma que mostre o número de pacientes por faixa etária**."
      ]
    },
    {
      "cell_type": "code",
      "execution_count": null,
      "id": "be182baa",
      "metadata": {
        "tags": [],
        "id": "be182baa"
      },
      "outputs": [],
      "source": [
        "sns.histplot(df['Age_Category'].str[:2].astype(int),bins=7)\n",
        "plt.show()"
      ]
    },
    {
      "cell_type": "markdown",
      "id": "3330f8a3",
      "metadata": {
        "id": "3330f8a3"
      },
      "source": [
        "**Crie um gráfico que mostre a distribuição de pessoas que consomem batatas fritas e vegetais separando-as por terem doenças cardíacas**."
      ]
    },
    {
      "cell_type": "code",
      "execution_count": null,
      "id": "38e6af3d",
      "metadata": {
        "tags": [],
        "id": "38e6af3d"
      },
      "outputs": [],
      "source": [
        "sns.scatterplot(x='FriedPotato_Consumption', y='Green_Vegetables_Consumption', hue='Heart_Disease', data=df)"
      ]
    },
    {
      "cell_type": "markdown",
      "id": "afd90872",
      "metadata": {
        "id": "afd90872"
      },
      "source": [
        "**Crie um gráfico que mostre a quantidade de pessoas que tem e não tem doenças no coração**."
      ]
    },
    {
      "cell_type": "code",
      "execution_count": null,
      "id": "09d50dc3",
      "metadata": {
        "tags": [],
        "id": "09d50dc3"
      },
      "outputs": [],
      "source": [
        "sns.countplot(x = df['Heart_Disease'],\n",
        "                data=df,\n",
        "                order = df['Heart_Disease'].value_counts().index\n",
        "                )"
      ]
    },
    {
      "cell_type": "code",
      "execution_count": null,
      "id": "4d5f0e09",
      "metadata": {
        "tags": [],
        "id": "4d5f0e09"
      },
      "outputs": [],
      "source": [
        "df['Heart_Disease'].value_counts()"
      ]
    },
    {
      "cell_type": "markdown",
      "id": "0e8e6f1e",
      "metadata": {
        "id": "0e8e6f1e"
      },
      "source": [
        "# Tratamento dos Dados"
      ]
    },
    {
      "cell_type": "code",
      "execution_count": null,
      "id": "4c27787b",
      "metadata": {
        "tags": [],
        "id": "4c27787b"
      },
      "outputs": [],
      "source": [
        "from sklearn.preprocessing import MinMaxScaler\n",
        "from sklearn.preprocessing import OrdinalEncoder\n",
        "from sklearn.model_selection import train_test_split"
      ]
    },
    {
      "cell_type": "code",
      "execution_count": null,
      "id": "5f6e5718",
      "metadata": {
        "tags": [],
        "id": "5f6e5718"
      },
      "outputs": [],
      "source": [
        "float_columns = df.select_dtypes(float).columns.to_list()"
      ]
    },
    {
      "cell_type": "code",
      "execution_count": null,
      "id": "9ff8daf0",
      "metadata": {
        "tags": [],
        "id": "9ff8daf0"
      },
      "outputs": [],
      "source": [
        "scaler = MinMaxScaler()\n",
        "df[float_columns] = scaler.fit_transform(df[float_columns])"
      ]
    },
    {
      "cell_type": "code",
      "execution_count": null,
      "id": "ee9bcc69",
      "metadata": {
        "tags": [],
        "id": "ee9bcc69"
      },
      "outputs": [],
      "source": [
        "categorical_columns = df.select_dtypes(object).columns.to_list()"
      ]
    },
    {
      "cell_type": "code",
      "execution_count": null,
      "id": "0c10881e",
      "metadata": {
        "tags": [],
        "id": "0c10881e"
      },
      "outputs": [],
      "source": [
        "ordinalEncoder = OrdinalEncoder(handle_unknown='use_encoded_value', unknown_value=-99).fit(df[categorical_columns])\n",
        "df[categorical_columns] = ordinalEncoder.transform(df[categorical_columns])"
      ]
    },
    {
      "cell_type": "code",
      "execution_count": null,
      "id": "b8b217a8",
      "metadata": {
        "tags": [],
        "id": "b8b217a8"
      },
      "outputs": [],
      "source": [
        "X = df.drop('Heart_Disease',axis=1)\n",
        "y = df.loc[:,'Heart_Disease']"
      ]
    },
    {
      "cell_type": "code",
      "execution_count": null,
      "id": "ffc942bf-02bd-4267-81c0-b09cce31ee57",
      "metadata": {
        "id": "ffc942bf-02bd-4267-81c0-b09cce31ee57"
      },
      "outputs": [],
      "source": [
        "X_train, X_test, y_train, y_test = train_test_split(X, y, test_size=0.30, random_state=101)"
      ]
    },
    {
      "cell_type": "markdown",
      "id": "97c23b3f-d970-4fc7-98b0-16c514d1e47e",
      "metadata": {
        "id": "97c23b3f-d970-4fc7-98b0-16c514d1e47e"
      },
      "source": [
        "# Modelo"
      ]
    },
    {
      "cell_type": "code",
      "execution_count": null,
      "id": "244c7b12-d4bc-4e61-b8cc-6109a8023ec7",
      "metadata": {
        "id": "244c7b12-d4bc-4e61-b8cc-6109a8023ec7"
      },
      "outputs": [],
      "source": [
        "from sklearn.linear_model import LogisticRegression"
      ]
    },
    {
      "cell_type": "code",
      "execution_count": null,
      "id": "71f98792-61d0-41ff-8595-d890ed00a025",
      "metadata": {
        "id": "71f98792-61d0-41ff-8595-d890ed00a025"
      },
      "outputs": [],
      "source": [
        "logmodel = LogisticRegression()\n",
        "logmodel.fit(X_train,y_train)"
      ]
    },
    {
      "cell_type": "code",
      "execution_count": null,
      "id": "2e659bf5-f2e8-4d6f-86f0-92bdd3f7506f",
      "metadata": {
        "id": "2e659bf5-f2e8-4d6f-86f0-92bdd3f7506f"
      },
      "outputs": [],
      "source": [
        "y_predict = logmodel.predict(X_test)"
      ]
    },
    {
      "cell_type": "code",
      "execution_count": null,
      "id": "a596cd78-6b39-48d5-9325-bd2df4a2e5fb",
      "metadata": {
        "tags": [],
        "id": "a596cd78-6b39-48d5-9325-bd2df4a2e5fb"
      },
      "outputs": [],
      "source": [
        "print(confusion_matrix(y_test, y_predict))"
      ]
    },
    {
      "cell_type": "code",
      "execution_count": null,
      "id": "d457aed0-a74f-4eda-8332-4b92db0cf66a",
      "metadata": {
        "id": "d457aed0-a74f-4eda-8332-4b92db0cf66a"
      },
      "outputs": [],
      "source": [
        "print(classification_report(y_test, y_predict))"
      ]
    },
    {
      "cell_type": "code",
      "execution_count": null,
      "id": "d592e349-295a-4501-88f1-d14a30ab5f6a",
      "metadata": {
        "id": "d592e349-295a-4501-88f1-d14a30ab5f6a"
      },
      "outputs": [],
      "source": [
        "prob_predict = logmodel.predict_proba(X_test)"
      ]
    },
    {
      "cell_type": "code",
      "execution_count": null,
      "id": "4ad8d4e6-3f1f-4b74-9c55-d587a16c4908",
      "metadata": {
        "id": "4ad8d4e6-3f1f-4b74-9c55-d587a16c4908"
      },
      "outputs": [],
      "source": [
        "y_predic_prob = prob_predict[:,1] > .2"
      ]
    },
    {
      "cell_type": "code",
      "execution_count": null,
      "id": "e9b23c4e-2c55-4a45-b961-a407e2b5a990",
      "metadata": {
        "id": "e9b23c4e-2c55-4a45-b961-a407e2b5a990"
      },
      "outputs": [],
      "source": [
        "print(classification_report(y_test, y_predic_prob))"
      ]
    },
    {
      "cell_type": "code",
      "execution_count": null,
      "id": "4c6b18e5-6005-4e31-b817-c8f01e47ed2f",
      "metadata": {
        "id": "4c6b18e5-6005-4e31-b817-c8f01e47ed2f"
      },
      "outputs": [],
      "source": []
    },
    {
      "cell_type": "code",
      "execution_count": null,
      "id": "61130b76-dc14-400d-82e6-26d1a6943846",
      "metadata": {
        "id": "61130b76-dc14-400d-82e6-26d1a6943846"
      },
      "outputs": [],
      "source": []
    }
  ],
  "metadata": {
    "kernelspec": {
      "display_name": "MachineLearning",
      "language": "python",
      "name": "machinelearning"
    },
    "language_info": {
      "codemirror_mode": {
        "name": "ipython",
        "version": 3
      },
      "file_extension": ".py",
      "mimetype": "text/x-python",
      "name": "python",
      "nbconvert_exporter": "python",
      "pygments_lexer": "ipython3",
      "version": "3.11.5"
    },
    "colab": {
      "provenance": [],
      "include_colab_link": true
    }
  },
  "nbformat": 4,
  "nbformat_minor": 5
}